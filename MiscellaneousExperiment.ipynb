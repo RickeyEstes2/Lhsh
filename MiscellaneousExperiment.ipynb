{
  "nbformat": 4,
  "nbformat_minor": 0,
  "metadata": {
    "colab": {
      "provenance": [],
      "authorship_tag": "ABX9TyO62hPpQT/qDn8a7bobF/I2",
      "include_colab_link": true
    },
    "kernelspec": {
      "name": "python3",
      "display_name": "Python 3"
    },
    "language_info": {
      "name": "python"
    }
  },
  "cells": [
    {
      "cell_type": "markdown",
      "metadata": {
        "id": "view-in-github",
        "colab_type": "text"
      },
      "source": [
        "<a href=\"https://colab.research.google.com/github/RickeyEstes2/Lhsh/blob/main/MiscellaneousExperiment.ipynb\" target=\"_parent\"><img src=\"https://colab.research.google.com/assets/colab-badge.svg\" alt=\"Open In Colab\"/></a>"
      ]
    },
    {
      "cell_type": "markdown",
      "source": [
        "<img src=\"https://upload.wikimedia.org/wikipedia/commons/2/2e/DNA_origami_rotaxanes.jpg\">"
      ],
      "metadata": {
        "id": "DGJhfYuFSsr9"
      }
    },
    {
      "cell_type": "markdown",
      "source": [
        "# $\\int_\\sqrt[\\varphi]{∆x•∆p = h/4π}^∞$"
      ],
      "metadata": {
        "id": "UK_QYNQTy_1D"
      }
    },
    {
      "cell_type": "markdown",
      "source": [
        "🔥<a href=\"https://instagram.com/weaponsdefense?igshid=YmM0MjE2YWMzOA==\">Weapons Defense</a>🔥"
      ],
      "metadata": {
        "id": "YC1zL-MiXuAr"
      }
    },
    {
      "cell_type": "markdown",
      "source": [
        "# $\\sqrt[\\varphi]x$"
      ],
      "metadata": {
        "id": "vISOBz0pZlKc"
      }
    }
  ]
}