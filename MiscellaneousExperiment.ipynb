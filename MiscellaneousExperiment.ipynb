{
  "nbformat": 4,
  "nbformat_minor": 0,
  "metadata": {
    "colab": {
      "provenance": [],
      "authorship_tag": "ABX9TyOVHalqgKjYPYxjZB+/oDKk",
      "include_colab_link": true
    },
    "kernelspec": {
      "name": "python3",
      "display_name": "Python 3"
    },
    "language_info": {
      "name": "python"
    }
  },
  "cells": [
    {
      "cell_type": "markdown",
      "metadata": {
        "id": "view-in-github",
        "colab_type": "text"
      },
      "source": [
        "<a href=\"https://colab.research.google.com/github/RickeyEstes2/Lhsh/blob/main/MiscellaneousExperiment.ipynb\" target=\"_parent\"><img src=\"https://colab.research.google.com/assets/colab-badge.svg\" alt=\"Open In Colab\"/></a>"
      ]
    },
    {
      "cell_type": "markdown",
      "source": [
        "<img src=\"https://upload.wikimedia.org/wikipedia/commons/2/2e/DNA_origami_rotaxanes.jpg\">"
      ],
      "metadata": {
        "id": "DGJhfYuFSsr9"
      }
    },
    {
      "cell_type": "markdown",
      "source": [
        "# $\\int_\\sqrt[\\varphi]{∆x•∆p = h/4π}^∞$"
      ],
      "metadata": {
        "id": "UK_QYNQTy_1D"
      }
    },
    {
      "cell_type": "markdown",
      "source": [
        "<hr>\n",
        "# Vincent Waterhouse - Weapons Defense\n",
        "https://instagram.com/weaponsdefense?igshid=YmM0MjE2YWMzOA=="
      ],
      "metadata": {
        "id": "YC1zL-MiXuAr"
      }
    }
  ]
}