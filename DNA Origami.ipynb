{
  "nbformat": 4,
  "nbformat_minor": 0,
  "metadata": {
    "colab": {
      "provenance": [],
      "authorship_tag": "ABX9TyN6ElVX15C6ca7YbP5cgbqU",
      "include_colab_link": true
    },
    "kernelspec": {
      "name": "python3",
      "display_name": "Python 3"
    },
    "language_info": {
      "name": "python"
    }
  },
  "cells": [
    {
      "cell_type": "markdown",
      "metadata": {
        "id": "view-in-github",
        "colab_type": "text"
      },
      "source": [
        "<a href=\"https://colab.research.google.com/github/RickeyEstes2/Lhsh/blob/main/DNA%20Origami.ipynb\" target=\"_parent\"><img src=\"https://colab.research.google.com/assets/colab-badge.svg\" alt=\"Open In Colab\"/></a>"
      ]
    },
    {
      "cell_type": "markdown",
      "source": [
        "<img src=\"https://upload.wikimedia.org/wikipedia/commons/2/2e/DNA_origami_rotaxanes.jpg\">"
      ],
      "metadata": {
        "id": "DGJhfYuFSsr9"
      }
    },
    {
      "cell_type": "markdown",
      "source": [
        "# $\\int_\\sqrt[\\varphi]{∆x•∆p = h/4π}^∞$"
      ],
      "metadata": {
        "id": "UK_QYNQTy_1D"
      }
    }
  ]
}